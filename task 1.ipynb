{
  "nbformat": 4,
  "nbformat_minor": 0,
  "metadata": {
    "colab": {
      "provenance": []
    },
    "kernelspec": {
      "name": "python3",
      "display_name": "Python 3"
    },
    "language_info": {
      "name": "python"
    }
  },
  "cells": [
    {
      "cell_type": "code",
      "execution_count": 1,
      "metadata": {
        "id": "bqUnYBhpqJ3t"
      },
      "outputs": [],
      "source": [
        "# Import libraries\n",
        "import pandas as pd"
      ]
    },
    {
      "cell_type": "code",
      "source": [
        "# Load the dataset\n",
        "df = pd.read_csv(\"/content/marketing_campaign.csv\")  # Replace with your file name\n",
        "print(\"Initial shape:\", df.shape)\n"
      ],
      "metadata": {
        "colab": {
          "base_uri": "https://localhost:8080/"
        },
        "id": "qr0o_osgqlG2",
        "outputId": "c358f196-346f-4977-d75f-30634ced316d"
      },
      "execution_count": 2,
      "outputs": [
        {
          "output_type": "stream",
          "name": "stdout",
          "text": [
            "Initial shape: (2240, 1)\n"
          ]
        }
      ]
    },
    {
      "cell_type": "code",
      "source": [
        " # View first few rows\n",
        "print(df.head())\n"
      ],
      "metadata": {
        "colab": {
          "base_uri": "https://localhost:8080/"
        },
        "id": "-pMjMYzZqlPK",
        "outputId": "012982f3-d336-4da2-e17a-3d65e37af25e"
      },
      "execution_count": 4,
      "outputs": [
        {
          "output_type": "stream",
          "name": "stdout",
          "text": [
            "  ID\\tYear_Birth\\tEducation\\tMarital_Status\\tIncome\\tKidhome\\tTeenhome\\tDt_Customer\\tRecency\\tMntWines\\tMntFruits\\tMntMeatProducts\\tMntFishProducts\\tMntSweetProducts\\tMntGoldProds\\tNumDealsPurchases\\tNumWebPurchases\\tNumCatalogPurchases\\tNumStorePurchases\\tNumWebVisitsMonth\\tAcceptedCmp3\\tAcceptedCmp4\\tAcceptedCmp5\\tAcceptedCmp1\\tAcceptedCmp2\\tComplain\\tZ_CostContact\\tZ_Revenue\\tResponse\n",
            "0  5524\\t1957\\tGraduation\\tSingle\\t58138\\t0\\t0\\t0...                                                                                                                                                                                                                                                                                                                                                  \n",
            "1  2174\\t1954\\tGraduation\\tSingle\\t46344\\t1\\t1\\t0...                                                                                                                                                                                                                                                                                                                                                  \n",
            "2  4141\\t1965\\tGraduation\\tTogether\\t71613\\t0\\t0\\...                                                                                                                                                                                                                                                                                                                                                  \n",
            "3  6182\\t1984\\tGraduation\\tTogether\\t26646\\t1\\t0\\...                                                                                                                                                                                                                                                                                                                                                  \n",
            "4  5324\\t1981\\tPhD\\tMarried\\t58293\\t1\\t0\\t19-01-2...                                                                                                                                                                                                                                                                                                                                                  \n"
          ]
        }
      ]
    },
    {
      "cell_type": "code",
      "source": [
        "# 1. Handle Missing Values\n",
        "missing_values = df.isnull().sum()\n",
        "print(\"\\nMissing values per column:\\n\", missing_values)\n"
      ],
      "metadata": {
        "colab": {
          "base_uri": "https://localhost:8080/"
        },
        "id": "3TBGevdkqlR-",
        "outputId": "0167be13-a104-4cca-e54b-e990adbe3ee1"
      },
      "execution_count": 5,
      "outputs": [
        {
          "output_type": "stream",
          "name": "stdout",
          "text": [
            "\n",
            "Missing values per column:\n",
            " ID\\tYear_Birth\\tEducation\\tMarital_Status\\tIncome\\tKidhome\\tTeenhome\\tDt_Customer\\tRecency\\tMntWines\\tMntFruits\\tMntMeatProducts\\tMntFishProducts\\tMntSweetProducts\\tMntGoldProds\\tNumDealsPurchases\\tNumWebPurchases\\tNumCatalogPurchases\\tNumStorePurchases\\tNumWebVisitsMonth\\tAcceptedCmp3\\tAcceptedCmp4\\tAcceptedCmp5\\tAcceptedCmp1\\tAcceptedCmp2\\tComplain\\tZ_CostContact\\tZ_Revenue\\tResponse    0\n",
            "dtype: int64\n"
          ]
        }
      ]
    },
    {
      "cell_type": "code",
      "source": [
        "# 1: Drop rows with any missing values\n",
        "df = df.dropna()\n"
      ],
      "metadata": {
        "id": "F9eUr6aXqlYg"
      },
      "execution_count": 6,
      "outputs": []
    },
    {
      "cell_type": "code",
      "source": [
        "# 2. Remove Duplicates\n",
        "df = df.drop_duplicates()\n",
        "print(\"After removing duplicates:\", df.shape)\n"
      ],
      "metadata": {
        "colab": {
          "base_uri": "https://localhost:8080/"
        },
        "id": "S0eHmWpqqlbW",
        "outputId": "4fd92286-3cc6-42f5-a58a-a2693fc0f5da"
      },
      "execution_count": 7,
      "outputs": [
        {
          "output_type": "stream",
          "name": "stdout",
          "text": [
            "After removing duplicates: (2240, 1)\n"
          ]
        }
      ]
    },
    {
      "cell_type": "code",
      "source": [
        "import pandas as pd\n",
        "\n",
        "# Sample DataFrame\n",
        "data = {\n",
        "    'gender': [' Male ', 'female', 'FEMALE', ' non-binary ', 'male', 'MALE']\n",
        "}\n",
        "df = pd.DataFrame(data)\n",
        "\n",
        "# Standardize the 'gender' column\n",
        "if 'gender' in df.columns:\n",
        "    # Convert to lowercase and strip whitespace\n",
        "    df['gender'] = df['gender'].str.lower().str.strip()\n",
        "\n",
        "    # Optionally, map variations to standard values\n",
        "    gender_mapping = {\n",
        "        'male': 'male',\n",
        "        'female': 'female',\n",
        "        'non-binary': 'non-binary',\n",
        "        'feminine': 'female',  # Example of mapping\n",
        "        'masculine': 'male'    # Example of mapping\n",
        "    }\n",
        "\n",
        "    df['gender'] = df['gender'].replace(gender_mapping)\n",
        "\n",
        "# Display the standardized DataFrame\n",
        "print(df)"
      ],
      "metadata": {
        "colab": {
          "base_uri": "https://localhost:8080/"
        },
        "id": "GazgukYTrgoM",
        "outputId": "56b8d5af-56aa-4c62-821a-ce6c65864b85"
      },
      "execution_count": 8,
      "outputs": [
        {
          "output_type": "stream",
          "name": "stdout",
          "text": [
            "       gender\n",
            "0        male\n",
            "1      female\n",
            "2      female\n",
            "3  non-binary\n",
            "4        male\n",
            "5        male\n"
          ]
        }
      ]
    },
    {
      "cell_type": "code",
      "source": [
        "import pandas as pd\n",
        "\n",
        "# Sample DataFrame\n",
        "data = {\n",
        "    'date': ['2023-01-01', '2023-02-15', 'invalid_date', '2023-03-10', '2023/04/05']\n",
        "}\n",
        "df = pd.DataFrame(data)\n",
        "\n",
        "# Convert 'date' column to datetime\n",
        "if 'date' in df.columns:\n",
        "    df['date'] = pd.to_datetime(df['date'], errors='coerce')\n",
        "\n",
        "# Display the DataFrame with the converted date column\n",
        "print(df)"
      ],
      "metadata": {
        "colab": {
          "base_uri": "https://localhost:8080/"
        },
        "id": "rIsneJ8ertsx",
        "outputId": "61775cfd-f0ed-4371-cd2c-448e772d0ba6"
      },
      "execution_count": 9,
      "outputs": [
        {
          "output_type": "stream",
          "name": "stdout",
          "text": [
            "        date\n",
            "0 2023-01-01\n",
            "1 2023-02-15\n",
            "2        NaT\n",
            "3 2023-03-10\n",
            "4        NaT\n"
          ]
        }
      ]
    },
    {
      "cell_type": "code",
      "source": [
        "import pandas as pd\n",
        "\n",
        "# Sample DataFrame\n",
        "data = {\n",
        "    ' First Name ': [ 'Alice', 'Bob', 'Charlie'],\n",
        "    ' Last Name ': ['Smith', 'Jones', 'Brown'],\n",
        "    ' Age ': [25, 30, 35]\n",
        "}\n",
        "df = pd.DataFrame(data)\n",
        "\n",
        "# Rename columns: lowercase, no spaces\n",
        "df.columns = df.columns.str.lower().str.strip().str.replace(\" \", \"_\")\n",
        "\n",
        "# Display the DataFrame with renamed columns\n",
        "print(df)"
      ],
      "metadata": {
        "colab": {
          "base_uri": "https://localhost:8080/"
        },
        "id": "sYwoRqzqrt5J",
        "outputId": "cfaace3c-e4b1-49a5-c802-c2174301299e"
      },
      "execution_count": 10,
      "outputs": [
        {
          "output_type": "stream",
          "name": "stdout",
          "text": [
            "  first_name last_name  age\n",
            "0      Alice     Smith   25\n",
            "1        Bob     Jones   30\n",
            "2    Charlie     Brown   35\n"
          ]
        }
      ]
    },
    {
      "cell_type": "code",
      "source": [
        "import pandas as pd\n",
        "\n",
        "# Sample DataFrame\n",
        "data = {\n",
        "    'first_name': ['Alice', 'Bob', 'Charlie'],\n",
        "    'last_name': ['Smith', 'Jones', 'Brown'],\n",
        "    'age': ['25', '30', '35'],  # Age is currently a string\n",
        "    'join_date': ['2023-01-01', '2023-02-15', '2023-03-10']  # Join date as string\n",
        "}\n",
        "df = pd.DataFrame(data)\n",
        "\n",
        "# Check current data types\n",
        "print(\"\\nData types before fixing:\\n\", df.dtypes)\n",
        "\n",
        "# Fix data types\n",
        "df['age'] = df['age'].astype(int)  # Convert age to integer\n",
        "df['join_date'] = pd.to_datetime(df['join_date'], errors='coerce')  # Convert join_date to datetime\n",
        "\n",
        "# Check data types after fixing\n",
        "print(\"\\nData types after fixing:\\n\", df.dtypes)\n",
        "\n",
        "# Display the DataFrame\n",
        "print(\"\\nDataFrame after fixing data types:\\n\", df)"
      ],
      "metadata": {
        "colab": {
          "base_uri": "https://localhost:8080/"
        },
        "id": "RTFmH536sDAu",
        "outputId": "225eb0f1-bcb0-4b50-e533-79a8c45fbcd4"
      },
      "execution_count": 11,
      "outputs": [
        {
          "output_type": "stream",
          "name": "stdout",
          "text": [
            "\n",
            "Data types before fixing:\n",
            " first_name    object\n",
            "last_name     object\n",
            "age           object\n",
            "join_date     object\n",
            "dtype: object\n",
            "\n",
            "Data types after fixing:\n",
            " first_name            object\n",
            "last_name             object\n",
            "age                    int64\n",
            "join_date     datetime64[ns]\n",
            "dtype: object\n",
            "\n",
            "DataFrame after fixing data types:\n",
            "   first_name last_name  age  join_date\n",
            "0      Alice     Smith   25 2023-01-01\n",
            "1        Bob     Jones   30 2023-02-15\n",
            "2    Charlie     Brown   35 2023-03-10\n"
          ]
        }
      ]
    },
    {
      "cell_type": "code",
      "source": [
        "import pandas as pd\n",
        "\n",
        "# Sample DataFrame\n",
        "data = {\n",
        "    'first_name': ['Alice', 'Bob', 'Charlie'],\n",
        "    'last_name': ['Smith', 'Jones', 'Brown'],\n",
        "    'age': ['25', '30', 'invalid']  # 'invalid' is a non-numeric value\n",
        "}\n",
        "df = pd.DataFrame(data)\n",
        "\n",
        "# Check the current data types\n",
        "print(\"Data types before conversion:\\n\", df.dtypes)\n",
        "\n",
        "# Convert 'age' column to integer, handling errors\n",
        "if 'age' in df.columns:\n",
        "    # First, convert to numeric, coercing errors to NaN\n",
        "    df['age'] = pd.to_numeric(df['age'], errors='coerce')\n",
        "    # Then, convert to integer, filling NaN with a default value if needed\n",
        "    df['age'] = df['age'].fillna(0).astype('int')  # Replace NaN with 0 or any other value\n",
        "\n",
        "# Check the data types after conversion\n",
        "print(\"\\nData types after conversion:\\n\", df.dtypes)\n",
        "\n",
        "# Display the DataFrame\n",
        "print(\"\\nDataFrame after converting age to integer:\\n\", df)"
      ],
      "metadata": {
        "colab": {
          "base_uri": "https://localhost:8080/"
        },
        "id": "cNIH6SbwsbPQ",
        "outputId": "393001f4-7360-4a51-b75d-222afe61c919"
      },
      "execution_count": 13,
      "outputs": [
        {
          "output_type": "stream",
          "name": "stdout",
          "text": [
            "Data types before conversion:\n",
            " first_name    object\n",
            "last_name     object\n",
            "age           object\n",
            "dtype: object\n",
            "\n",
            "Data types after conversion:\n",
            " first_name    object\n",
            "last_name     object\n",
            "age            int64\n",
            "dtype: object\n",
            "\n",
            "DataFrame after converting age to integer:\n",
            "   first_name last_name  age\n",
            "0      Alice     Smith   25\n",
            "1        Bob     Jones   30\n",
            "2    Charlie     Brown    0\n"
          ]
        }
      ]
    }
  ]
}